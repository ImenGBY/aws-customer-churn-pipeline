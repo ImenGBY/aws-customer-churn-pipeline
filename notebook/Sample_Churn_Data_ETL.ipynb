{
 "cells": [
  {
   "cell_type": "code",
   "execution_count": null,
   "metadata": {},
   "outputs": [],
   "source": [
    "import boto3\n",
    "import sagemaker"
   ]
  },
  {
   "cell_type": "markdown",
   "metadata": {},
   "source": [
    "## Set up S3 Bucket"
   ]
  },
  {
   "cell_type": "code",
   "execution_count": null,
   "metadata": {},
   "outputs": [],
   "source": [
    "account_id = boto3.client('sts').get_caller_identity()[\"Account\"]"
   ]
  },
  {
   "cell_type": "code",
   "execution_count": null,
   "metadata": {},
   "outputs": [],
   "source": [
    "region = sagemaker.Session().boto_region_name"
   ]
  },
  {
   "cell_type": "code",
   "execution_count": null,
   "metadata": {},
   "outputs": [],
   "source": [
    "S3_BUCKET_NAME = f\"train-inference-pipeline-{account_id}\"\n",
    "GLUE_CRAWLER_NAME = \"glue-crawler-tif\"\n",
    "DATABASE = S3_BUCKET_NAME\n",
    "REGION = \"ap-southeast-2\""
   ]
  },
  {
   "cell_type": "code",
   "execution_count": null,
   "metadata": {},
   "outputs": [],
   "source": [
    "try:\n",
    "    s3_client = boto3.client('s3', region_name=region)\n",
    "    s3_client.create_bucket(Bucket=S3_BUCKET_NAME,\n",
    "                            ACL='private',\n",
    "                            CreateBucketConfiguration={'LocationConstraint': region})\n",
    "    print(f'Create S3 bucket {S3_BUCKET_NAME}: SUCCESS')\n",
    "    \n",
    "except Exception as e:\n",
    "    if e.response['Error']['Code'] == 'BucketAlreadyOwnedByYou':\n",
    "        print(f'Using existing bucket: {S3_BUCKET_NAME}')\n",
    "    else:\n",
    "        raise(e)"
   ]
  },
  {
   "cell_type": "markdown",
   "metadata": {},
   "source": [
    "## Fetch Synthetic Sample Data"
   ]
  },
  {
   "cell_type": "code",
   "execution_count": null,
   "metadata": {
    "ExecuteTime": {
     "end_time": "2021-04-19T04:16:28.896999Z",
     "start_time": "2021-04-19T04:16:22.842170Z"
    }
   },
   "outputs": [],
   "source": [
    "!aws s3 cp s3://sagemaker-sample-files/datasets/tabular/synthetic/churn.txt ./data/"
   ]
  },
  {
   "cell_type": "markdown",
   "metadata": {},
   "source": [
    "### Split Data"
   ]
  },
  {
   "cell_type": "code",
   "execution_count": null,
   "metadata": {
    "ExecuteTime": {
     "end_time": "2021-04-19T04:16:30.123035Z",
     "start_time": "2021-04-19T04:16:30.117921Z"
    }
   },
   "outputs": [],
   "source": [
    "import os\n",
    "\n",
    "os.makedirs(\"./data/train/\", exist_ok=True)\n",
    "os.makedirs(\"./data/infer/\", exist_ok=True)"
   ]
  },
  {
   "cell_type": "code",
   "execution_count": null,
   "metadata": {
    "ExecuteTime": {
     "end_time": "2021-04-19T04:16:32.499134Z",
     "start_time": "2021-04-19T04:16:30.867355Z"
    }
   },
   "outputs": [],
   "source": [
    "import pandas as pd\n",
    "\n",
    "df_churn = pd.read_csv(\"../data/churn.txt\", header=0)\n",
    "df_churn.sample(frac=1).reset_index(drop=True, inplace=True)\n",
    "df_train, df_test = df_churn[:100], df_churn[100:]\n",
    "\n",
    "df_train.to_csv(\"./data/train/churn_train.txt\", index=False)\n",
    "df_test = df_test.drop(df_test.columns[-1], axis=1)\n",
    "df_test.to_csv(\"./data/infer/churn_test.txt\", index=False)"
   ]
  },
  {
   "cell_type": "markdown",
   "metadata": {},
   "source": [
    "### Upload Data to S3"
   ]
  },
  {
   "cell_type": "code",
   "execution_count": null,
   "metadata": {
    "ExecuteTime": {
     "end_time": "2021-04-19T04:16:37.284356Z",
     "start_time": "2021-04-19T04:16:35.240760Z"
    }
   },
   "outputs": [],
   "source": [
    "!cd .. && aws s3 sync ./data s3://{S3_BUCKET_NAME}/demo/"
   ]
  },
  {
   "cell_type": "markdown",
   "metadata": {},
   "source": [
    "## Setup Athena"
   ]
  },
  {
   "cell_type": "code",
   "execution_count": null,
   "metadata": {},
   "outputs": [],
   "source": [
    "paras = [\n",
    "  {\n",
    "    \"ParameterKey\": \"DataBucketName\",\n",
    "    \"ParameterValue\": S3_BUCKET_NAME,\n",
    "  },\n",
    "]"
   ]
  },
  {
   "cell_type": "code",
   "execution_count": null,
   "metadata": {},
   "outputs": [],
   "source": [
    "import json\n",
    "with open('paras.json', 'w') as fp:\n",
    "    json.dump(paras, fp)\n",
    "    \n",
    "!cat paras.json"
   ]
  },
  {
   "cell_type": "code",
   "execution_count": null,
   "metadata": {},
   "outputs": [],
   "source": [
    "!aws cloudformation --region {REGION} create-change-set \\\n",
    "--stack-name \"tip\" \\\n",
    "--change-set-name ImportChangeSet \\\n",
    "--change-set-type IMPORT \\\n",
    "--resources-to-import \"[{\\\"ResourceType\\\":\\\"AWS::Athena::WorkGroup\\\",\\\"LogicalResourceId\\\":\\\"AthenaPrimaryWorkGroup\\\",\\\"ResourceIdentifier\\\":{\\\"Name\\\":\\\"primary\\\"}}]\" \\\n",
    "--parameters file://paras.json \\\n",
    "--template-body file://../cfn/01-athena.yaml"
   ]
  },
  {
   "cell_type": "code",
   "execution_count": null,
   "metadata": {},
   "outputs": [],
   "source": [
    "!rm paras.json"
   ]
  },
  {
   "cell_type": "markdown",
   "metadata": {},
   "source": [
    "**Wait for the cloudformation stack creation complete before executing the following command**"
   ]
  },
  {
   "cell_type": "code",
   "execution_count": null,
   "metadata": {
    "ExecuteTime": {
     "end_time": "2021-04-19T04:54:30.567905Z",
     "start_time": "2021-04-19T04:54:28.911296Z"
    }
   },
   "outputs": [],
   "source": [
    "!aws cloudformation--region {REGION} execute-change-set --change-set-name ImportChangeSet --stack-name \"tip\""
   ]
  },
  {
   "cell_type": "markdown",
   "metadata": {},
   "source": [
    "## Setup Glue"
   ]
  },
  {
   "cell_type": "code",
   "execution_count": null,
   "metadata": {
    "ExecuteTime": {
     "end_time": "2021-04-19T04:56:15.250048Z",
     "start_time": "2021-04-19T04:56:15.245450Z"
    }
   },
   "outputs": [],
   "source": [
    "cfn_stack_name = \"tip-glue\""
   ]
  },
  {
   "cell_type": "code",
   "execution_count": null,
   "metadata": {
    "ExecuteTime": {
     "end_time": "2021-04-19T04:56:18.336001Z",
     "start_time": "2021-04-19T04:56:15.964835Z"
    }
   },
   "outputs": [],
   "source": [
    "!aws cloudformation --region \"ap-southeast-2\" create-stack \\\n",
    "--stack-name {cfn_stack_name} \\\n",
    "--template-body file://../cfn/02-crawler.yaml \\\n",
    "--capabilities CAPABILITY_NAMED_IAM \\\n",
    "--parameters ParameterKey=RawDataBucketName,ParameterValue={S3_BUCKET_NAME}\\\n",
    "ParameterKey=CrawlerName,ParameterValue={GLUE_CRAWLER_NAME}"
   ]
  },
  {
   "cell_type": "markdown",
   "metadata": {},
   "source": [
    "### Start Glue Crawler"
   ]
  },
  {
   "cell_type": "markdown",
   "metadata": {},
   "source": [
    "**Wait for the glue Crawler Creation Complete before starting the crawler with the following command.**"
   ]
  },
  {
   "cell_type": "code",
   "execution_count": null,
   "metadata": {
    "ExecuteTime": {
     "end_time": "2021-04-19T04:57:48.200999Z",
     "start_time": "2021-04-19T04:57:45.852813Z"
    }
   },
   "outputs": [],
   "source": [
    "!aws glue --region {REGION} start-crawler --name {GLUE_CRAWLER_NAME}"
   ]
  },
  {
   "cell_type": "markdown",
   "metadata": {},
   "source": [
    "**Wait for the Glue Crawler being stopped before querying the Athena Database**"
   ]
  },
  {
   "cell_type": "code",
   "execution_count": null,
   "metadata": {
    "ExecuteTime": {
     "end_time": "2021-04-19T05:00:19.934967Z",
     "start_time": "2021-04-19T05:00:18.235547Z"
    }
   },
   "outputs": [],
   "source": [
    "query_exec_id = !aws athena --region {REGION} start-query-execution --query-string \"SELECT * FROM train limit 3;\" --query-execution-context Database={DATABASE}\n",
    "query_exec_id = eval(\" \".join(query_exec_id))[\"QueryExecutionId\"]\n",
    "query_exec_id "
   ]
  },
  {
   "cell_type": "code",
   "execution_count": null,
   "metadata": {
    "ExecuteTime": {
     "end_time": "2021-04-19T05:00:21.209893Z",
     "start_time": "2021-04-19T05:00:19.937533Z"
    }
   },
   "outputs": [],
   "source": [
    "!aws athena --region {REGION} get-query-results --query-execution-id {query_exec_id}"
   ]
  },
  {
   "cell_type": "markdown",
   "metadata": {},
   "source": [
    "## Upload Scripts to S3\n",
    "\n",
    "For different dataset, update \n",
    "\n",
    "- `../script/preprocessing.py`\n",
    "- `../script/inferpreprocessing.py` "
   ]
  },
  {
   "cell_type": "code",
   "execution_count": null,
   "metadata": {
    "ExecuteTime": {
     "end_time": "2021-04-19T05:01:28.045427Z",
     "start_time": "2021-04-19T05:01:26.569860Z"
    }
   },
   "outputs": [],
   "source": [
    "!cd .. && aws s3 sync ./scripts s3://{S3_BUCKET_NAME}/script/"
   ]
  },
  {
   "cell_type": "markdown",
   "metadata": {},
   "source": [
    "## Deployment"
   ]
  },
  {
   "cell_type": "code",
   "execution_count": null,
   "metadata": {
    "ExecuteTime": {
     "end_time": "2021-04-19T05:01:35.108514Z",
     "start_time": "2021-04-19T05:01:33.948342Z"
    }
   },
   "outputs": [],
   "source": [
    "!aws s3 cp ../cfn/pipeline.yaml s3://{S3_BUCKET_NAME}/cfn/"
   ]
  },
  {
   "cell_type": "code",
   "execution_count": null,
   "metadata": {
    "ExecuteTime": {
     "end_time": "2021-04-19T05:01:40.406560Z",
     "start_time": "2021-04-19T05:01:38.725901Z"
    }
   },
   "outputs": [],
   "source": [
    "!aws --region {REGION} cloudformation create-stack \\\n",
    "--stack-name \"tip-syd\" \\\n",
    "--template-url https://{S3_BUCKET_NAME}.s3-{REGION}.amazonaws.com/cfn/pipeline.yaml \\\n",
    "--capabilities CAPABILITY_NAMED_IAM \\\n",
    "--parameters ParameterKey=AthenaDatabaseName,ParameterValue={DATABASE} \\\n",
    "ParameterKey=PipelineBucketName,ParameterValue={S3_BUCKET_NAME} \\\n",
    "--disable-rollback"
   ]
  },
  {
   "cell_type": "markdown",
   "metadata": {},
   "source": [
    "## Trigger Training"
   ]
  },
  {
   "cell_type": "code",
   "execution_count": null,
   "metadata": {
    "ExecuteTime": {
     "end_time": "2021-04-19T05:05:24.121585Z",
     "start_time": "2021-04-19T05:05:18.633663Z"
    }
   },
   "outputs": [],
   "source": [
    "!aws lambda --region \"ap-southeast-2\" invoke --function-name invokeTrainingStepFunction --payload '{ \"\": \"\"}' out"
   ]
  },
  {
   "cell_type": "markdown",
   "metadata": {},
   "source": [
    "## Trigger Inference"
   ]
  },
  {
   "cell_type": "code",
   "execution_count": null,
   "metadata": {
    "ExecuteTime": {
     "end_time": "2021-04-13T12:01:51.418761Z",
     "start_time": "2021-04-13T12:01:45.448820Z"
    }
   },
   "outputs": [],
   "source": [
    "!aws lambda --region \"ap-southeast-2\" invoke --function-name invokeInferStepFunction --payload '{ \"\": \"\"}' out"
   ]
  },
  {
   "cell_type": "code",
   "execution_count": null,
   "metadata": {},
   "outputs": [],
   "source": []
  }
 ],
 "metadata": {
  "kernelspec": {
   "display_name": "Python 3",
   "language": "python",
   "name": "python3"
  },
  "language_info": {
   "codemirror_mode": {
    "name": "ipython",
    "version": 3
   },
   "file_extension": ".py",
   "mimetype": "text/x-python",
   "name": "python",
   "nbconvert_exporter": "python",
   "pygments_lexer": "ipython3",
   "version": "3.8.5"
  },
  "latex_envs": {
   "LaTeX_envs_menu_present": true,
   "autoclose": false,
   "autocomplete": true,
   "bibliofile": "biblio.bib",
   "cite_by": "apalike",
   "current_citInitial": 1,
   "eqLabelWithNumbers": true,
   "eqNumInitial": 1,
   "hotkeys": {
    "equation": "Ctrl-E",
    "itemize": "Ctrl-I"
   },
   "labels_anchors": false,
   "latex_user_defs": false,
   "report_style_numbering": false,
   "user_envs_cfg": false
  }
 },
 "nbformat": 4,
 "nbformat_minor": 4
}
